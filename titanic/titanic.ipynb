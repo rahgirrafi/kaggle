{
  "nbformat": 4,
  "nbformat_minor": 0,
  "metadata": {
    "colab": {
      "provenance": [],
      "authorship_tag": "ABX9TyMdWj0lIMbOIuKufgwjILsB"
    },
    "kernelspec": {
      "name": "python3",
      "display_name": "Python 3"
    },
    "language_info": {
      "name": "python"
    }
  },
  "cells": [
    {
      "cell_type": "code",
      "execution_count": 1,
      "metadata": {
        "id": "XNEIOET_iD6W"
      },
      "outputs": [],
      "source": [
        "import numpy as np\n",
        "import pandas as pd\n",
        "import seaborn as sns\n",
        "import matplotlib.pyplot as plt\n",
        "\n",
        "from sklearn import linear_model\n",
        "from sklearn.model_selection import StratifiedShuffleSplit\n",
        "from sklearn.base import BaseEstimator, TransformerMixin\n",
        "from sklearn.impute import SimpleImputer\n",
        "from sklearn.preprocessing import StandardScaler, OneHotEncoder\n",
        "from sklearn.pipeline import Pipeline\n",
        "\n",
        "from sklearn.ensemble import RandomForestClassifier\n",
        "from sklearn.model_selection import GridSearchCV"
      ]
    },
    {
      "cell_type": "code",
      "source": [
        "url = 'https://raw.githubusercontent.com/rahgirrafi/kaggle/master/titanic/train.csv'\n",
        "df = pd.read_csv(url)\n",
        "#df.describe()\n",
        "#df.head()"
      ],
      "metadata": {
        "id": "SuvqIoB2pCHu"
      },
      "execution_count": 2,
      "outputs": []
    },
    {
      "cell_type": "code",
      "source": [
        "df.shape\n",
        "df.info()"
      ],
      "metadata": {
        "id": "oYMkn0UQ53qm"
      },
      "execution_count": null,
      "outputs": []
    },
    {
      "cell_type": "code",
      "source": [
        "#df['Sex'] = df['Sex'].replace('male',0)\n",
        "#df['Sex'] = df['Sex'].replace('female',1)\n",
        "#df['Embarked'] = df['Embarked'] .replace('C',0)\n",
        "#df['Embarked']  = df['Embarked'].replace('Q',1)\n",
        "#df['Embarked']  = df['Embarked'].replace('S',2)\n",
        "#df['Embarked']  = df['Embarked'].replace(np.nan,3)\n",
        "#df['Embarked'].unique()"
      ],
      "metadata": {
        "id": "5TVHkTm1W9gd"
      },
      "execution_count": null,
      "outputs": []
    },
    {
      "cell_type": "code",
      "source": [
        "splitter = StratifiedShuffleSplit(n_splits = 1, test_size = .2, random_state= 0)\n",
        "\n",
        "for train_idx, test_idx in splitter.split(df, df[['Sex','Pclass','Survived']]):\n",
        "  train = df.loc[train_idx]\n",
        "  test = df.loc[test_idx]\n"
      ],
      "metadata": {
        "id": "I2qNTLdExQgW"
      },
      "execution_count": 3,
      "outputs": []
    },
    {
      "cell_type": "code",
      "source": [
        "survived_by_gender = df.groupby('Sex')['Survived'].sum()\n",
        "print(survived_by_gender)\n",
        "gender_labels = survived_by_gender.index\n",
        "survivor_counts = survived_by_gender.values\n",
        "\n",
        "plt.bar(gender_labels, survivor_counts, color=['blue', 'pink'])\n",
        "plt.xlabel('Sex')\n",
        "plt.ylabel('Count of Survivors')\n",
        "plt.title('Survivors on the Titanic by Gender')\n",
        "plt.show()"
      ],
      "metadata": {
        "id": "TPw3i0N_s_B0"
      },
      "execution_count": null,
      "outputs": []
    },
    {
      "cell_type": "code",
      "source": [
        "sns.heatmap(df.corr(), annot= True)"
      ],
      "metadata": {
        "id": "5qB29ePXKOdO"
      },
      "execution_count": null,
      "outputs": []
    },
    {
      "cell_type": "code",
      "source": [
        "sns.countplot(x= df['Sex'], hue=df['Survived'])\n",
        "plt.show()\n",
        "sns.countplot(x= df['SibSp'], hue=df['Survived'])\n",
        "plt.show()\n",
        "sns.countplot(x= df['Parch'], hue=df['Survived'])\n",
        "plt.show()\n",
        "sns.countplot(x= df['Pclass'], hue=df['Survived'])\n",
        "plt.show()\n",
        "sns.countplot(x= df['Embarked'], hue=df['Survived'])\n",
        "plt.show()\n",
        "fig, ax = plt.subplots(figsize=(35, 5))\n",
        "sns.countplot(data= df, x= df['Age'], hue=df['Survived'])\n",
        "plt.show()\n",
        "fig, ax = plt.subplots(figsize=(10,10))\n",
        "sns.scatterplot(data= df, x= df['PassengerId'], y=df['Fare'], hue=df['Survived'])\n",
        "plt.show()\n"
      ],
      "metadata": {
        "id": "-CU3v1AM5Hhf"
      },
      "execution_count": null,
      "outputs": []
    },
    {
      "cell_type": "code",
      "source": [
        "class featureEncoder(BaseEstimator, TransformerMixin):\n",
        "  def fit(self, X, y=None):\n",
        "    return self\n",
        "  def transform(self, X):\n",
        "    encoder = OneHotEncoder(sparse= False)\n",
        "    mat = encoder.fit_transform(X[['Embarked']]) #fit_transform expects a 2D array\n",
        "    columns=['C', 'Q', 'S', 'N']\n",
        "\n",
        "    for i in range(len(columns)):\n",
        "      X[columns[i]]=mat.T[i]\n",
        "\n",
        "    mat = encoder.fit_transform(X[['Sex']])\n",
        "    columns = ['female', 'male']\n",
        "\n",
        "    for i in range(len(columns)):\n",
        "\n",
        "      X[columns[i]]= mat.T[i]\n",
        "\n",
        "    return X"
      ],
      "metadata": {
        "id": "Xg3G-dAAp9jq"
      },
      "execution_count": 4,
      "outputs": []
    },
    {
      "cell_type": "code",
      "source": [
        "#dropping unnecessary columns\n",
        "class featureDropper(BaseEstimator, TransformerMixin):\n",
        "  def fit(self, X, y=None):\n",
        "    return self\n",
        "\n",
        "  def transform(self, X):\n",
        "    toDrop = ['PassengerId', 'Name', 'Ticket', 'Cabin', 'Sex', 'Embarked']\n",
        "    X= X.drop(columns=toDrop)\n",
        "\n",
        "    return X\n"
      ],
      "metadata": {
        "id": "eeTOyg2HiQ9E"
      },
      "execution_count": 6,
      "outputs": []
    },
    {
      "cell_type": "code",
      "source": [
        "#handling missing values\n",
        "class featureImputer(BaseEstimator, TransformerMixin):\n",
        "  def fit(self, X, y=None):\n",
        "    return self\n",
        "  def transform(self, X):\n",
        "    ageImputer = SimpleImputer(strategy = 'mean')\n",
        "    X['Age'] = ageImputer.fit_transform(X[['Age']])\n",
        "\n",
        "    return X\n"
      ],
      "metadata": {
        "id": "HWBu7PYglkKH"
      },
      "execution_count": 7,
      "outputs": []
    },
    {
      "cell_type": "code",
      "source": [
        "pipeline = Pipeline([\n",
        "    ('imputer', featureImputer() ),\n",
        "    ('encoder', featureEncoder() ),\n",
        "    ('dropper', featureDropper() )\n",
        "])\n",
        "preprocessed_train = pipeline.fit_transform(train)\n"
      ],
      "metadata": {
        "colab": {
          "base_uri": "https://localhost:8080/"
        },
        "id": "ndtA62IyscGO",
        "outputId": "7632fa11-636a-4f6d-efd6-489eba5ecbce"
      },
      "execution_count": 8,
      "outputs": [
        {
          "output_type": "stream",
          "name": "stderr",
          "text": [
            "/usr/local/lib/python3.10/dist-packages/sklearn/preprocessing/_encoders.py:868: FutureWarning: `sparse` was renamed to `sparse_output` in version 1.2 and will be removed in 1.4. `sparse_output` is ignored unless you leave `sparse` to its default value.\n",
            "  warnings.warn(\n",
            "/usr/local/lib/python3.10/dist-packages/sklearn/preprocessing/_encoders.py:868: FutureWarning: `sparse` was renamed to `sparse_output` in version 1.2 and will be removed in 1.4. `sparse_output` is ignored unless you leave `sparse` to its default value.\n",
            "  warnings.warn(\n"
          ]
        }
      ]
    },
    {
      "cell_type": "code",
      "source": [
        "#scaling/ normalization\n",
        "X_train = preprocessed_train.drop(columns=['Survived'])\n",
        "y_train = preprocessed_train['Survived']\n",
        "\n",
        "scaler = StandardScaler()\n",
        "X_train = scaler.fit_transform(X_train)\n",
        "y_train = y_train.to_numpy()\n"
      ],
      "metadata": {
        "id": "3URwCfn4neOE"
      },
      "execution_count": 9,
      "outputs": []
    },
    {
      "cell_type": "code",
      "source": [
        "#model selection\n",
        "\n",
        "tree = RandomForestClassifier()\n",
        "param_grid = {\n",
        "    'n_estimators': [100,500,1000],\n",
        "    'criterion': ['gini', 'entropy', 'log_loss'],\n",
        "    'max_depth': [None,5,10,20],\n",
        "    'min_samples_split':[2,3,4],\n",
        "\n",
        "}\n",
        "\n",
        "gridSearch = GridSearchCV(tree, param_grid, cv = 5, scoring = 'accuracy', n_jobs= -1, return_train_score = True)\n",
        "\n",
        "gridSearch.fit(X_train, y_train)\n"
      ],
      "metadata": {
        "id": "bY13DjVpu-Ky",
        "colab": {
          "base_uri": "https://localhost:8080/",
          "height": 118
        },
        "outputId": "1c7275b0-f21f-48a3-edff-1580b10a00ca"
      },
      "execution_count": 11,
      "outputs": [
        {
          "output_type": "execute_result",
          "data": {
            "text/plain": [
              "GridSearchCV(cv=5, estimator=RandomForestClassifier(), n_jobs=-1,\n",
              "             param_grid={'criterion': ['gini', 'entropy', 'log_loss'],\n",
              "                         'max_depth': [None, 5, 10, 20],\n",
              "                         'min_samples_split': [2, 3, 4],\n",
              "                         'n_estimators': [100, 500, 1000]},\n",
              "             return_train_score=True, scoring='accuracy')"
            ],
            "text/html": [
              "<style>#sk-container-id-1 {color: black;background-color: white;}#sk-container-id-1 pre{padding: 0;}#sk-container-id-1 div.sk-toggleable {background-color: white;}#sk-container-id-1 label.sk-toggleable__label {cursor: pointer;display: block;width: 100%;margin-bottom: 0;padding: 0.3em;box-sizing: border-box;text-align: center;}#sk-container-id-1 label.sk-toggleable__label-arrow:before {content: \"▸\";float: left;margin-right: 0.25em;color: #696969;}#sk-container-id-1 label.sk-toggleable__label-arrow:hover:before {color: black;}#sk-container-id-1 div.sk-estimator:hover label.sk-toggleable__label-arrow:before {color: black;}#sk-container-id-1 div.sk-toggleable__content {max-height: 0;max-width: 0;overflow: hidden;text-align: left;background-color: #f0f8ff;}#sk-container-id-1 div.sk-toggleable__content pre {margin: 0.2em;color: black;border-radius: 0.25em;background-color: #f0f8ff;}#sk-container-id-1 input.sk-toggleable__control:checked~div.sk-toggleable__content {max-height: 200px;max-width: 100%;overflow: auto;}#sk-container-id-1 input.sk-toggleable__control:checked~label.sk-toggleable__label-arrow:before {content: \"▾\";}#sk-container-id-1 div.sk-estimator input.sk-toggleable__control:checked~label.sk-toggleable__label {background-color: #d4ebff;}#sk-container-id-1 div.sk-label input.sk-toggleable__control:checked~label.sk-toggleable__label {background-color: #d4ebff;}#sk-container-id-1 input.sk-hidden--visually {border: 0;clip: rect(1px 1px 1px 1px);clip: rect(1px, 1px, 1px, 1px);height: 1px;margin: -1px;overflow: hidden;padding: 0;position: absolute;width: 1px;}#sk-container-id-1 div.sk-estimator {font-family: monospace;background-color: #f0f8ff;border: 1px dotted black;border-radius: 0.25em;box-sizing: border-box;margin-bottom: 0.5em;}#sk-container-id-1 div.sk-estimator:hover {background-color: #d4ebff;}#sk-container-id-1 div.sk-parallel-item::after {content: \"\";width: 100%;border-bottom: 1px solid gray;flex-grow: 1;}#sk-container-id-1 div.sk-label:hover label.sk-toggleable__label {background-color: #d4ebff;}#sk-container-id-1 div.sk-serial::before {content: \"\";position: absolute;border-left: 1px solid gray;box-sizing: border-box;top: 0;bottom: 0;left: 50%;z-index: 0;}#sk-container-id-1 div.sk-serial {display: flex;flex-direction: column;align-items: center;background-color: white;padding-right: 0.2em;padding-left: 0.2em;position: relative;}#sk-container-id-1 div.sk-item {position: relative;z-index: 1;}#sk-container-id-1 div.sk-parallel {display: flex;align-items: stretch;justify-content: center;background-color: white;position: relative;}#sk-container-id-1 div.sk-item::before, #sk-container-id-1 div.sk-parallel-item::before {content: \"\";position: absolute;border-left: 1px solid gray;box-sizing: border-box;top: 0;bottom: 0;left: 50%;z-index: -1;}#sk-container-id-1 div.sk-parallel-item {display: flex;flex-direction: column;z-index: 1;position: relative;background-color: white;}#sk-container-id-1 div.sk-parallel-item:first-child::after {align-self: flex-end;width: 50%;}#sk-container-id-1 div.sk-parallel-item:last-child::after {align-self: flex-start;width: 50%;}#sk-container-id-1 div.sk-parallel-item:only-child::after {width: 0;}#sk-container-id-1 div.sk-dashed-wrapped {border: 1px dashed gray;margin: 0 0.4em 0.5em 0.4em;box-sizing: border-box;padding-bottom: 0.4em;background-color: white;}#sk-container-id-1 div.sk-label label {font-family: monospace;font-weight: bold;display: inline-block;line-height: 1.2em;}#sk-container-id-1 div.sk-label-container {text-align: center;}#sk-container-id-1 div.sk-container {/* jupyter's `normalize.less` sets `[hidden] { display: none; }` but bootstrap.min.css set `[hidden] { display: none !important; }` so we also need the `!important` here to be able to override the default hidden behavior on the sphinx rendered scikit-learn.org. See: https://github.com/scikit-learn/scikit-learn/issues/21755 */display: inline-block !important;position: relative;}#sk-container-id-1 div.sk-text-repr-fallback {display: none;}</style><div id=\"sk-container-id-1\" class=\"sk-top-container\"><div class=\"sk-text-repr-fallback\"><pre>GridSearchCV(cv=5, estimator=RandomForestClassifier(), n_jobs=-1,\n",
              "             param_grid={&#x27;criterion&#x27;: [&#x27;gini&#x27;, &#x27;entropy&#x27;, &#x27;log_loss&#x27;],\n",
              "                         &#x27;max_depth&#x27;: [None, 5, 10, 20],\n",
              "                         &#x27;min_samples_split&#x27;: [2, 3, 4],\n",
              "                         &#x27;n_estimators&#x27;: [100, 500, 1000]},\n",
              "             return_train_score=True, scoring=&#x27;accuracy&#x27;)</pre><b>In a Jupyter environment, please rerun this cell to show the HTML representation or trust the notebook. <br />On GitHub, the HTML representation is unable to render, please try loading this page with nbviewer.org.</b></div><div class=\"sk-container\" hidden><div class=\"sk-item sk-dashed-wrapped\"><div class=\"sk-label-container\"><div class=\"sk-label sk-toggleable\"><input class=\"sk-toggleable__control sk-hidden--visually\" id=\"sk-estimator-id-1\" type=\"checkbox\" ><label for=\"sk-estimator-id-1\" class=\"sk-toggleable__label sk-toggleable__label-arrow\">GridSearchCV</label><div class=\"sk-toggleable__content\"><pre>GridSearchCV(cv=5, estimator=RandomForestClassifier(), n_jobs=-1,\n",
              "             param_grid={&#x27;criterion&#x27;: [&#x27;gini&#x27;, &#x27;entropy&#x27;, &#x27;log_loss&#x27;],\n",
              "                         &#x27;max_depth&#x27;: [None, 5, 10, 20],\n",
              "                         &#x27;min_samples_split&#x27;: [2, 3, 4],\n",
              "                         &#x27;n_estimators&#x27;: [100, 500, 1000]},\n",
              "             return_train_score=True, scoring=&#x27;accuracy&#x27;)</pre></div></div></div><div class=\"sk-parallel\"><div class=\"sk-parallel-item\"><div class=\"sk-item\"><div class=\"sk-label-container\"><div class=\"sk-label sk-toggleable\"><input class=\"sk-toggleable__control sk-hidden--visually\" id=\"sk-estimator-id-2\" type=\"checkbox\" ><label for=\"sk-estimator-id-2\" class=\"sk-toggleable__label sk-toggleable__label-arrow\">estimator: RandomForestClassifier</label><div class=\"sk-toggleable__content\"><pre>RandomForestClassifier()</pre></div></div></div><div class=\"sk-serial\"><div class=\"sk-item\"><div class=\"sk-estimator sk-toggleable\"><input class=\"sk-toggleable__control sk-hidden--visually\" id=\"sk-estimator-id-3\" type=\"checkbox\" ><label for=\"sk-estimator-id-3\" class=\"sk-toggleable__label sk-toggleable__label-arrow\">RandomForestClassifier</label><div class=\"sk-toggleable__content\"><pre>RandomForestClassifier()</pre></div></div></div></div></div></div></div></div></div></div>"
            ]
          },
          "metadata": {},
          "execution_count": 11
        }
      ]
    },
    {
      "cell_type": "code",
      "source": [
        "chosen_tree = gridSearch.best_estimator_\n"
      ],
      "metadata": {
        "id": "XJMZq_eWZJHF"
      },
      "execution_count": null,
      "outputs": []
    },
    {
      "cell_type": "code",
      "source": [
        "resuts = gridSearch.cv_results_"
      ],
      "metadata": {
        "id": "x0oy6SJSZfhf"
      },
      "execution_count": null,
      "outputs": []
    }
  ]
}